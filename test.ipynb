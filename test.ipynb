{
 "cells": [
  {
   "cell_type": "code",
   "execution_count": null,
   "id": "terminal-radius",
   "metadata": {},
   "outputs": [],
   "source": [
    "using Plots, Interact"
   ]
  },
  {
   "cell_type": "code",
   "execution_count": null,
   "id": "interesting-retrieval",
   "metadata": {},
   "outputs": [],
   "source": [
    "f(a,b,x) = a*x + b "
   ]
  },
  {
   "cell_type": "code",
   "execution_count": null,
   "id": "neural-manhattan",
   "metadata": {},
   "outputs": [],
   "source": [
    "@manipulate for a  = -5:5 , b = -5:5\n",
    "    plot(x->f(a,b,x))\n",
    "end"
   ]
  },
  {
   "cell_type": "code",
   "execution_count": null,
   "id": "willing-characteristic",
   "metadata": {},
   "outputs": [],
   "source": []
  }
 ],
 "metadata": {
  "@webio": {
   "lastCommId": "c7c5692247554d458d0c7e1d24dfb3c5",
   "lastKernelId": "0fc4c80d-d0fc-48b0-aa35-20a864564855"
  },
  "kernelspec": {
   "display_name": "Julia 1.6.0",
   "language": "julia",
   "name": "julia-1.6"
  },
  "language_info": {
   "file_extension": ".jl",
   "mimetype": "application/julia",
   "name": "julia",
   "version": "1.6.0"
  }
 },
 "nbformat": 4,
 "nbformat_minor": 5
}
